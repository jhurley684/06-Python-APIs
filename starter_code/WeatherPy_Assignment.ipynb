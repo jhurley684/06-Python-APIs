{
 "cells": [
  {
   "cell_type": "code",
   "execution_count": 1,
   "id": "380c4c08",
   "metadata": {},
   "outputs": [],
   "source": [
    "# Dependencies and Setup    \n",
    "import matplotlib.pyplot as plt\n",
    "import pandas as pd\n",
    "import numpy as np\n",
    "import requests\n",
    "import time\n",
    "from scipy.stats import linregress\n",
    "import json\n",
    "from pprint import pprint\n",
    "\n",
    "# Import API key\n",
    "from api_keys import weather_api_key\n",
    "\n",
    "url = \"http://api.openweathermap.org/data/2.5/weather?\"\n",
    "\n",
    "# Incorporated citipy to determine city based on latitude and longitude\n",
    "from citipy import citipy\n",
    "\n",
    "# Output File (CSV)\n",
    "output_data_file = \"output_data/cities.csv\"\n",
    "\n",
    "# Range of latitudes and longitudes\n",
    "lat_range = (-90, 90)\n",
    "lng_range = (-180, 180)\n"
   ]
  },
  {
   "cell_type": "markdown",
   "id": "59589ade",
   "metadata": {},
   "source": [
    "## Generate Cities List"
   ]
  },
  {
   "cell_type": "code",
   "execution_count": 2,
   "id": "0005a8e2",
   "metadata": {},
   "outputs": [
    {
     "data": {
      "text/plain": [
       "610"
      ]
     },
     "execution_count": 2,
     "metadata": {},
     "output_type": "execute_result"
    }
   ],
   "source": [
    "# List for holding lat_lngs and cities\n",
    "lat_lngs = []\n",
    "cities = []\n",
    "\n",
    "# Create a set of random lat and lng combinations\n",
    "lats = np.random.uniform(lat_range[0], lat_range[1], size=1500)\n",
    "lngs = np.random.uniform(lng_range[0], lng_range[1], size=1500)\n",
    "lat_lngs = zip(lats, lngs)\n",
    "\n",
    "# Identify nearest city for each lat, lng combination\n",
    "for lat_lng in lat_lngs:\n",
    "    city = citipy.nearest_city(lat_lng[0], lat_lng[1]).city_name\n",
    "    \n",
    "    # If the city is unique, then add it to a our cities list\n",
    "    if city not in cities:\n",
    "        cities.append(city)\n",
    "\n",
    "# Print the city count to confirm sufficient count\n",
    "len(cities)\n",
    "# print(cities)\n"
   ]
  },
  {
   "cell_type": "markdown",
   "id": "37c2f34a",
   "metadata": {},
   "source": [
    "## Perform API Calls¶\n",
    "Perform a weather check on each city using a series of successive API calls.\n",
    "Include a print log of each city as it'sbeing processed (with the city number and city name)."
   ]
  },
  {
   "cell_type": "code",
   "execution_count": 3,
   "id": "1cf41f1b",
   "metadata": {},
   "outputs": [],
   "source": [
    "# Build a query to get the data for a specific city\n",
    "query = f\"{url}appid={weather_api_key}&q={city}\"\n",
    "# print(query)"
   ]
  },
  {
   "cell_type": "code",
   "execution_count": 4,
   "id": "478254a3",
   "metadata": {},
   "outputs": [],
   "source": [
    "# # set up lists to hold reponse info\n",
    "lat = []\n",
    "lng = []\n",
    "max_temp = []\n",
    "humidity = []\n",
    "cloudiness = []\n",
    "wind_speed = []\n",
    "country = []\n",
    "date = []\n",
    "\n",
    "\n",
    "# # Loop through the list of cities and perform a request for data on each\n",
    "for city in cities:\n",
    "\n",
    "\n",
    "    #   Get weather data\n",
    "    response = requests.get(query).json()\n",
    "   \n",
    "\n",
    "    # Get the weather factors and store them\n",
    "    lat.append(response['coord']['lat'])\n",
    "    lng.append(response['coord']['lon'])\n",
    "    max_temp.append(response['main']['temp_max'])\n",
    "    humidity.append(response['main']['humidity'])\n",
    "    cloudiness.append(response['clouds']['all'])\n",
    "    wind_speed.append(response['wind']['speed'])\n",
    "    country.append(response['sys']['country'])\n",
    "    date.append(response['dt'])\n",
    "    \n",
    "               \n",
    "#     print(f\"Data for {city} was found.\")"
   ]
  },
  {
   "cell_type": "markdown",
   "id": "34f5d5a7",
   "metadata": {},
   "source": [
    "## Convert Raw Data to DataFrame\n",
    "Export the city data into a .csv.\n",
    "Display the DataFrame"
   ]
  },
  {
   "cell_type": "code",
   "execution_count": 5,
   "id": "eac23b95",
   "metadata": {},
   "outputs": [
    {
     "data": {
      "text/html": [
       "<div>\n",
       "<style scoped>\n",
       "    .dataframe tbody tr th:only-of-type {\n",
       "        vertical-align: middle;\n",
       "    }\n",
       "\n",
       "    .dataframe tbody tr th {\n",
       "        vertical-align: top;\n",
       "    }\n",
       "\n",
       "    .dataframe thead th {\n",
       "        text-align: right;\n",
       "    }\n",
       "</style>\n",
       "<table border=\"1\" class=\"dataframe\">\n",
       "  <thead>\n",
       "    <tr style=\"text-align: right;\">\n",
       "      <th></th>\n",
       "      <th>City</th>\n",
       "      <th>Lat</th>\n",
       "      <th>Lng</th>\n",
       "      <th>Max Temp</th>\n",
       "      <th>Humidity</th>\n",
       "      <th>Cloudiness</th>\n",
       "      <th>Wind Speed</th>\n",
       "      <th>Country</th>\n",
       "      <th>Date</th>\n",
       "    </tr>\n",
       "  </thead>\n",
       "  <tbody>\n",
       "    <tr>\n",
       "      <th>0</th>\n",
       "      <td>grand river south east</td>\n",
       "      <td>-34.5322</td>\n",
       "      <td>20.0403</td>\n",
       "      <td>287.19</td>\n",
       "      <td>85</td>\n",
       "      <td>83</td>\n",
       "      <td>1.45</td>\n",
       "      <td>ZA</td>\n",
       "      <td>1633630710</td>\n",
       "    </tr>\n",
       "    <tr>\n",
       "      <th>1</th>\n",
       "      <td>pierre</td>\n",
       "      <td>-34.5322</td>\n",
       "      <td>20.0403</td>\n",
       "      <td>287.19</td>\n",
       "      <td>85</td>\n",
       "      <td>83</td>\n",
       "      <td>1.45</td>\n",
       "      <td>ZA</td>\n",
       "      <td>1633630710</td>\n",
       "    </tr>\n",
       "    <tr>\n",
       "      <th>2</th>\n",
       "      <td>albany</td>\n",
       "      <td>-34.5322</td>\n",
       "      <td>20.0403</td>\n",
       "      <td>287.19</td>\n",
       "      <td>85</td>\n",
       "      <td>83</td>\n",
       "      <td>1.45</td>\n",
       "      <td>ZA</td>\n",
       "      <td>1633630710</td>\n",
       "    </tr>\n",
       "    <tr>\n",
       "      <th>3</th>\n",
       "      <td>taolanaro</td>\n",
       "      <td>-34.5322</td>\n",
       "      <td>20.0403</td>\n",
       "      <td>287.19</td>\n",
       "      <td>85</td>\n",
       "      <td>83</td>\n",
       "      <td>1.45</td>\n",
       "      <td>ZA</td>\n",
       "      <td>1633630710</td>\n",
       "    </tr>\n",
       "    <tr>\n",
       "      <th>4</th>\n",
       "      <td>illoqqortoormiut</td>\n",
       "      <td>-34.5322</td>\n",
       "      <td>20.0403</td>\n",
       "      <td>287.19</td>\n",
       "      <td>85</td>\n",
       "      <td>83</td>\n",
       "      <td>1.45</td>\n",
       "      <td>ZA</td>\n",
       "      <td>1633630710</td>\n",
       "    </tr>\n",
       "  </tbody>\n",
       "</table>\n",
       "</div>"
      ],
      "text/plain": [
       "                     City      Lat      Lng  Max Temp  Humidity  Cloudiness  \\\n",
       "0  grand river south east -34.5322  20.0403    287.19        85          83   \n",
       "1                  pierre -34.5322  20.0403    287.19        85          83   \n",
       "2                  albany -34.5322  20.0403    287.19        85          83   \n",
       "3               taolanaro -34.5322  20.0403    287.19        85          83   \n",
       "4        illoqqortoormiut -34.5322  20.0403    287.19        85          83   \n",
       "\n",
       "   Wind Speed Country        Date  \n",
       "0        1.45      ZA  1633630710  \n",
       "1        1.45      ZA  1633630710  \n",
       "2        1.45      ZA  1633630710  \n",
       "3        1.45      ZA  1633630710  \n",
       "4        1.45      ZA  1633630710  "
      ]
     },
     "execution_count": 5,
     "metadata": {},
     "output_type": "execute_result"
    }
   ],
   "source": [
    "# Create a data frame from from append lists\n",
    "weather_dict = {\n",
    "    'City': cities,\n",
    "    'Lat' : lat,\n",
    "    'Lng' : lng,\n",
    "    'Max Temp' : max_temp,\n",
    "    'Humidity' : humidity,\n",
    "    'Cloudiness' : cloudiness,\n",
    "    'Wind Speed' : wind_speed,\n",
    "    'Country' : country,\n",
    "    'Date' : date\n",
    "}\n",
    "\n",
    "weather_data = pd.DataFrame(weather_dict)\n",
    "weather_data.head()\n"
   ]
  },
  {
   "cell_type": "code",
   "execution_count": 10,
   "id": "d1ddab27",
   "metadata": {},
   "outputs": [
    {
     "data": {
      "text/html": [
       "<div>\n",
       "<style scoped>\n",
       "    .dataframe tbody tr th:only-of-type {\n",
       "        vertical-align: middle;\n",
       "    }\n",
       "\n",
       "    .dataframe tbody tr th {\n",
       "        vertical-align: top;\n",
       "    }\n",
       "\n",
       "    .dataframe thead th {\n",
       "        text-align: right;\n",
       "    }\n",
       "</style>\n",
       "<table border=\"1\" class=\"dataframe\">\n",
       "  <thead>\n",
       "    <tr style=\"text-align: right;\">\n",
       "      <th></th>\n",
       "      <th>Lat</th>\n",
       "      <th>Lng</th>\n",
       "      <th>Max Temp</th>\n",
       "      <th>Humidity</th>\n",
       "      <th>Cloudiness</th>\n",
       "      <th>Wind Speed</th>\n",
       "      <th>Date</th>\n",
       "    </tr>\n",
       "  </thead>\n",
       "  <tbody>\n",
       "    <tr>\n",
       "      <th>count</th>\n",
       "      <td>6.390000e+02</td>\n",
       "      <td>6.390000e+02</td>\n",
       "      <td>6.390000e+02</td>\n",
       "      <td>639.0</td>\n",
       "      <td>639.0</td>\n",
       "      <td>6.390000e+02</td>\n",
       "      <td>6.390000e+02</td>\n",
       "    </tr>\n",
       "    <tr>\n",
       "      <th>mean</th>\n",
       "      <td>3.661670e+01</td>\n",
       "      <td>1.017667e+02</td>\n",
       "      <td>2.868900e+02</td>\n",
       "      <td>57.0</td>\n",
       "      <td>6.0</td>\n",
       "      <td>1.830000e+00</td>\n",
       "      <td>1.633613e+09</td>\n",
       "    </tr>\n",
       "    <tr>\n",
       "      <th>std</th>\n",
       "      <td>2.915507e-13</td>\n",
       "      <td>1.137759e-13</td>\n",
       "      <td>3.640829e-12</td>\n",
       "      <td>0.0</td>\n",
       "      <td>0.0</td>\n",
       "      <td>6.444338e-15</td>\n",
       "      <td>0.000000e+00</td>\n",
       "    </tr>\n",
       "    <tr>\n",
       "      <th>min</th>\n",
       "      <td>3.661670e+01</td>\n",
       "      <td>1.017667e+02</td>\n",
       "      <td>2.868900e+02</td>\n",
       "      <td>57.0</td>\n",
       "      <td>6.0</td>\n",
       "      <td>1.830000e+00</td>\n",
       "      <td>1.633613e+09</td>\n",
       "    </tr>\n",
       "    <tr>\n",
       "      <th>25%</th>\n",
       "      <td>3.661670e+01</td>\n",
       "      <td>1.017667e+02</td>\n",
       "      <td>2.868900e+02</td>\n",
       "      <td>57.0</td>\n",
       "      <td>6.0</td>\n",
       "      <td>1.830000e+00</td>\n",
       "      <td>1.633613e+09</td>\n",
       "    </tr>\n",
       "    <tr>\n",
       "      <th>50%</th>\n",
       "      <td>3.661670e+01</td>\n",
       "      <td>1.017667e+02</td>\n",
       "      <td>2.868900e+02</td>\n",
       "      <td>57.0</td>\n",
       "      <td>6.0</td>\n",
       "      <td>1.830000e+00</td>\n",
       "      <td>1.633613e+09</td>\n",
       "    </tr>\n",
       "    <tr>\n",
       "      <th>75%</th>\n",
       "      <td>3.661670e+01</td>\n",
       "      <td>1.017667e+02</td>\n",
       "      <td>2.868900e+02</td>\n",
       "      <td>57.0</td>\n",
       "      <td>6.0</td>\n",
       "      <td>1.830000e+00</td>\n",
       "      <td>1.633613e+09</td>\n",
       "    </tr>\n",
       "    <tr>\n",
       "      <th>max</th>\n",
       "      <td>3.661670e+01</td>\n",
       "      <td>1.017667e+02</td>\n",
       "      <td>2.868900e+02</td>\n",
       "      <td>57.0</td>\n",
       "      <td>6.0</td>\n",
       "      <td>1.830000e+00</td>\n",
       "      <td>1.633613e+09</td>\n",
       "    </tr>\n",
       "  </tbody>\n",
       "</table>\n",
       "</div>"
      ],
      "text/plain": [
       "                Lat           Lng      Max Temp  Humidity  Cloudiness  \\\n",
       "count  6.390000e+02  6.390000e+02  6.390000e+02     639.0       639.0   \n",
       "mean   3.661670e+01  1.017667e+02  2.868900e+02      57.0         6.0   \n",
       "std    2.915507e-13  1.137759e-13  3.640829e-12       0.0         0.0   \n",
       "min    3.661670e+01  1.017667e+02  2.868900e+02      57.0         6.0   \n",
       "25%    3.661670e+01  1.017667e+02  2.868900e+02      57.0         6.0   \n",
       "50%    3.661670e+01  1.017667e+02  2.868900e+02      57.0         6.0   \n",
       "75%    3.661670e+01  1.017667e+02  2.868900e+02      57.0         6.0   \n",
       "max    3.661670e+01  1.017667e+02  2.868900e+02      57.0         6.0   \n",
       "\n",
       "         Wind Speed          Date  \n",
       "count  6.390000e+02  6.390000e+02  \n",
       "mean   1.830000e+00  1.633613e+09  \n",
       "std    6.444338e-15  0.000000e+00  \n",
       "min    1.830000e+00  1.633613e+09  \n",
       "25%    1.830000e+00  1.633613e+09  \n",
       "50%    1.830000e+00  1.633613e+09  \n",
       "75%    1.830000e+00  1.633613e+09  \n",
       "max    1.830000e+00  1.633613e+09  "
      ]
     },
     "execution_count": 10,
     "metadata": {},
     "output_type": "execute_result"
    }
   ],
   "source": [
    "weather_data.describe()"
   ]
  },
  {
   "cell_type": "markdown",
   "id": "bf4d9cbc",
   "metadata": {},
   "source": [
    "## Inspect the data and remove the cities where the humidity > 100%.\n",
    "Skip this step if there are no cities that have humidity > 100%."
   ]
  },
  {
   "cell_type": "code",
   "execution_count": 6,
   "id": "c3d0c822",
   "metadata": {},
   "outputs": [
    {
     "data": {
      "text/html": [
       "<div>\n",
       "<style scoped>\n",
       "    .dataframe tbody tr th:only-of-type {\n",
       "        vertical-align: middle;\n",
       "    }\n",
       "\n",
       "    .dataframe tbody tr th {\n",
       "        vertical-align: top;\n",
       "    }\n",
       "\n",
       "    .dataframe thead th {\n",
       "        text-align: right;\n",
       "    }\n",
       "</style>\n",
       "<table border=\"1\" class=\"dataframe\">\n",
       "  <thead>\n",
       "    <tr style=\"text-align: right;\">\n",
       "      <th></th>\n",
       "      <th>City</th>\n",
       "      <th>Lat</th>\n",
       "      <th>Lng</th>\n",
       "      <th>Max Temp</th>\n",
       "      <th>Humidity</th>\n",
       "      <th>Cloudiness</th>\n",
       "      <th>Wind Speed</th>\n",
       "      <th>Country</th>\n",
       "      <th>Date</th>\n",
       "    </tr>\n",
       "  </thead>\n",
       "  <tbody>\n",
       "  </tbody>\n",
       "</table>\n",
       "</div>"
      ],
      "text/plain": [
       "Empty DataFrame\n",
       "Columns: [City, Lat, Lng, Max Temp, Humidity, Cloudiness, Wind Speed, Country, Date]\n",
       "Index: []"
      ]
     },
     "execution_count": 6,
     "metadata": {},
     "output_type": "execute_result"
    }
   ],
   "source": [
    "# Get the indices of cities that have humidity over 100%.\n",
    "\n",
    "# BY DEFINITION, 100% humidity is as high as physically possible therefore no cities\n",
    "# have a higher than 100% humidity. But just to be sure:\n",
    "# weather_data.sort_values('Humidity')\n",
    "\n",
    "# Test to see whether weather is wetter than 100\n",
    "wet_weather = weather_data[(weather_data['Humidity'] > 100)]\n",
    "# wet_weather\n",
    "\n",
    "# Get rid of any data that claims more than 100 humidity\n",
    "# MAY HAVE TO SAY:  If humidity is > 100 , then drop...\n",
    "# clean_weather = weather_data.drop(wet_weather, inplace = False)\n",
    "\n",
    "wet_weather"
   ]
  },
  {
   "cell_type": "markdown",
   "id": "389a1f76",
   "metadata": {},
   "source": [
    "## Plotting the Data¶\n",
    "Use proper labeling of the plots using plot titles (including date of analysis) and axes labels.\n",
    "Save the plotted figures as .pngs."
   ]
  },
  {
   "cell_type": "code",
   "execution_count": 7,
   "id": "08f086a6",
   "metadata": {},
   "outputs": [
    {
     "data": {
      "image/png": "[encoded data removed]",
      "text/plain": [
       "<Figure size 432x288 with 1 Axes>"
      ]
     },
     "metadata": {
      "needs_background": "light"
     },
     "output_type": "display_data"
    }
   ],
   "source": [
    "# Lat vs Temp\n",
    "plt.scatter(weather_data['Lat'],weather_data['Max Temp'])\n",
    "plt.xlabel('Latitude')\n",
    "plt.ylabel('Temperature')\n",
    "plt.savefig('lat_vs_temp.png')\n",
    "plt.show()"
   ]
  },
  {
   "cell_type": "code",
   "execution_count": 8,
   "id": "d387fc54",
   "metadata": {},
   "outputs": [
    {
     "data": {
      "image/png": "[encoded data removed]",
      "text/plain": [
       "<Figure size 432x288 with 1 Axes>"
      ]
     },
     "metadata": {
      "needs_background": "light"
     },
     "output_type": "display_data"
    }
   ],
   "source": [
    "# Lat vs Humidity\n",
    "plt.scatter(weather_data['Lat'],weather_data['Humidity'])\n",
    "plt.xlabel('Latitude')\n",
    "plt.ylabel('Humidity')\n",
    "plt.savefig('lat_vs_humidity.png')\n",
    "plt.show()"
   ]
  },
  {
   "cell_type": "code",
   "execution_count": 9,
   "id": "0a176538",
   "metadata": {},
   "outputs": [
    {
     "data": {
      "image/png": "[encoded data removed]",
      "text/plain": [
       "<Figure size 432x288 with 1 Axes>"
      ]
     },
     "metadata": {
      "needs_background": "light"
     },
     "output_type": "display_data"
    }
   ],
   "source": [
    "# Lat vs Cloudiness\n",
    "plt.scatter(weather_data['Lat'],weather_data['Cloudiness'])\n",
    "plt.xlabel('Latitude')\n",
    "plt.ylabel('Cloudiness')\n",
    "plt.savefig('lat_vs_cloudiness.png')\n",
    "plt.show()"
   ]
  },
  {
   "cell_type": "code",
   "execution_count": 10,
   "id": "f7fb5edd",
   "metadata": {},
   "outputs": [
    {
     "data": {
      "image/png": "[encoded data removed]",
      "text/plain": [
       "<Figure size 432x288 with 1 Axes>"
      ]
     },
     "metadata": {
      "needs_background": "light"
     },
     "output_type": "display_data"
    }
   ],
   "source": [
    "# Lat vs Windspeed\n",
    "plt.scatter(weather_data['Lat'],weather_data['Wind Speed'])\n",
    "plt.xlabel('Latitude')\n",
    "plt.ylabel('Windspeed')\n",
    "plt.savefig('lat_vs_windspeed.png')\n",
    "plt.show()"
   ]
  },
  {
   "cell_type": "markdown",
   "id": "c040f7e3",
   "metadata": {},
   "source": [
    "## Linear Regression"
   ]
  },
  {
   "cell_type": "code",
   "execution_count": 38,
   "id": "88cd1de5",
   "metadata": {},
   "outputs": [],
   "source": [
    "# Test whether city latitude is north (> 0) or south (< o)\n",
    "# put in North or South bin and do regression\n",
    "\n",
    "weather_data['Hemisphere'] = ['North' if x > 0 else 'South' for x in weather_data['Lat']]\n",
    "# weather_data\n",
    "\n",
    "south_cities = weather_data[weather_data['Hemisphere'] == 'South']\n",
    "north_cities = weather_data[weather_data['Hemisphere'] == 'North']\n"
   ]
  },
  {
   "cell_type": "code",
   "execution_count": 36,
   "id": "d2b4ae8e",
   "metadata": {},
   "outputs": [],
   "source": [
    "# Northern Hemisphere - Max Temp vs. Latitude Linear Regression  *****EMPTY*****\n",
    "\n",
    "# x_values = north_cities['Lat']\n",
    "# y_values = north_cities['Max Temp']\n",
    "# (slope, intercept, rvalue, pvalue, stderr) = linregress(x_values, y_values)\n",
    "# regress_values = x_values * slope + intercept\n",
    "# line_eq = \"y = \" + str(round(slope,2)) + \"x + \" + str(round(intercept,2))\n",
    "# plt.scatter(x_values,y_values)\n",
    "# plt.plot(x_values,regress_values,\"r-\")\n",
    "# plt.annotate(line_eq,(6,10),fontsize=15,color=\"red\")\n",
    "# plt.xlabel('Latitude')\n",
    "# plt.ylabel('Max Temperature')\n",
    "# print(f\"The r-squared is: {rvalue**2}\")\n",
    "# plt.show()"
   ]
  },
  {
   "cell_type": "code",
   "execution_count": 39,
   "id": "e47621bf",
   "metadata": {},
   "outputs": [
    {
     "name": "stdout",
     "output_type": "stream",
     "text": [
      "The r-squared is: 1.0\n"
     ]
    },
    {
     "data": {
      "image/png": "[encoded data removed]",
      "text/plain": [
       "<Figure size 432x288 with 1 Axes>"
      ]
     },
     "metadata": {
      "needs_background": "light"
     },
     "output_type": "display_data"
    }
   ],
   "source": [
    "# Southern Hemisphere - Max Temp vs. Latitude Linear Regression\n",
    "\n",
    "x_values = south_cities['Lat']\n",
    "y_values = south_cities['Max Temp']\n",
    "(slope, intercept, rvalue, pvalue, stderr) = linregress(x_values, y_values)\n",
    "regress_values = x_values * slope + intercept\n",
    "line_eq = \"y = \" + str(round(slope,2)) + \"x + \" + str(round(intercept,2))\n",
    "plt.scatter(x_values,y_values)\n",
    "plt.plot(x_values,regress_values,\"r-\")\n",
    "plt.annotate(line_eq,(6,10),fontsize=15,color=\"red\")\n",
    "plt.xlabel('Latitude')\n",
    "plt.ylabel('Max Temperature')\n",
    "print(f\"The r-squared is: {rvalue**2}\")\n",
    "plt.show()"
   ]
  },
  {
   "cell_type": "code",
   "execution_count": 41,
   "id": "3ade53b1",
   "metadata": {},
   "outputs": [],
   "source": [
    "# Northern Hemisphere - Humidity (%) vs. Latitude Linear Regression  *****EMPTY*****\n",
    "\n",
    "# x_values = North_cities['Lat']\n",
    "# y_values = North_cities['Humidity']\n",
    "# (slope, intercept, rvalue, pvalue, stderr) = linregress(x_values, y_values)\n",
    "# regress_values = x_values * slope + intercept\n",
    "# line_eq = \"y = \" + str(round(slope,2)) + \"x + \" + str(round(intercept,2))\n",
    "# plt.scatter(x_values,y_values)\n",
    "# plt.plot(x_values,regress_values,\"r-\")\n",
    "# plt.annotate(line_eq,(6,10),fontsize=15,color=\"red\")\n",
    "# plt.xlabel('Latitude')\n",
    "# plt.ylabel('Humidity')\n",
    "# print(f\"The r-squared is: {rvalue**2}\")\n",
    "# plt.show()"
   ]
  },
  {
   "cell_type": "code",
   "execution_count": 42,
   "id": "a97ec0cc",
   "metadata": {},
   "outputs": [
    {
     "name": "stdout",
     "output_type": "stream",
     "text": [
      "The r-squared is: 0.0\n"
     ]
    },
    {
     "data": {
      "image/png": "[encoded data removed]",
      "text/plain": [
       "<Figure size 432x288 with 1 Axes>"
      ]
     },
     "metadata": {
      "needs_background": "light"
     },
     "output_type": "display_data"
    }
   ],
   "source": [
    "# Southern Hemisphere - Humidity (%) vs. Latitude Linear Regression\n",
    "\n",
    "x_values = south_cities['Lat']\n",
    "y_values = south_cities['Humidity']\n",
    "(slope, intercept, rvalue, pvalue, stderr) = linregress(x_values, y_values)\n",
    "regress_values = x_values * slope + intercept\n",
    "line_eq = \"y = \" + str(round(slope,2)) + \"x + \" + str(round(intercept,2))\n",
    "plt.scatter(x_values,y_values)\n",
    "plt.plot(x_values,regress_values,\"r-\")\n",
    "plt.annotate(line_eq,(6,10),fontsize=15,color=\"red\")\n",
    "plt.xlabel('Latitude')\n",
    "plt.ylabel('Humidity')\n",
    "print(f\"The r-squared is: {rvalue**2}\")\n",
    "plt.show()"
   ]
  },
  {
   "cell_type": "code",
   "execution_count": null,
   "id": "9cefa7f1",
   "metadata": {},
   "outputs": [],
   "source": [
    "# Northern Hemisphere - Cloudiness (%) vs. Latitude Linear Regression\n",
    "\n",
    "# x_values = North_cities['Lat']\n",
    "# y_values = North_cities['Cloudiness']\n",
    "# (slope, intercept, rvalue, pvalue, stderr) = linregress(x_values, y_values)\n",
    "# regress_values = x_values * slope + intercept\n",
    "# line_eq = \"y = \" + str(round(slope,2)) + \"x + \" + str(round(intercept,2))\n",
    "# plt.scatter(x_values,y_values)\n",
    "# plt.plot(x_values,regress_values,\"r-\")\n",
    "# plt.annotate(line_eq,(6,10),fontsize=15,color=\"red\")\n",
    "# plt.xlabel('Latitude')\n",
    "# plt.ylabel('Cloudiness')\n",
    "# print(f\"The r-squared is: {rvalue**2}\")\n",
    "# plt.show()\n"
   ]
  },
  {
   "cell_type": "code",
   "execution_count": null,
   "id": "9c027315",
   "metadata": {},
   "outputs": [],
   "source": [
    "# Southern Hemisphere - Cloudiness (%) vs. Latitude Linear Regression\n",
    "\n",
    "x_values = south_cities['Lat']\n",
    "y_values = south_cities['Cloudiness']\n",
    "(slope, intercept, rvalue, pvalue, stderr) = linregress(x_values, y_values)\n",
    "regress_values = x_values * slope + intercept\n",
    "line_eq = \"y = \" + str(round(slope,2)) + \"x + \" + str(round(intercept,2))\n",
    "plt.scatter(x_values,y_values)\n",
    "plt.plot(x_values,regress_values,\"r-\")\n",
    "plt.annotate(line_eq,(6,10),fontsize=15,color=\"red\")\n",
    "plt.xlabel('Latitude')\n",
    "plt.ylabel('Cloudiness')\n",
    "print(f\"The r-squared is: {rvalue**2}\")\n",
    "plt.show()"
   ]
  },
  {
   "cell_type": "code",
   "execution_count": null,
   "id": "3f98100b",
   "metadata": {},
   "outputs": [],
   "source": [
    "# Northern Hemisphere - Wind Speed (mph) vs. Latitude Linear Regression\n",
    "\n",
    "# x_values = North_cities['Lat']\n",
    "# y_values = North_cities['Wind Speed']\n",
    "# (slope, intercept, rvalue, pvalue, stderr) = linregress(x_values, y_values)\n",
    "# regress_values = x_values * slope + intercept\n",
    "# line_eq = \"y = \" + str(round(slope,2)) + \"x + \" + str(round(intercept,2))\n",
    "# plt.scatter(x_values,y_values)\n",
    "# plt.plot(x_values,regress_values,\"r-\")\n",
    "# plt.annotate(line_eq,(6,10),fontsize=15,color=\"red\")\n",
    "# plt.xlabel('Latitude')\n",
    "# plt.ylabel('Wind Speed')\n",
    "# print(f\"The r-squared is: {rvalue**2}\")\n",
    "# plt.show()\n"
   ]
  },
  {
   "cell_type": "code",
   "execution_count": null,
   "id": "e0225c57",
   "metadata": {},
   "outputs": [],
   "source": [
    "# Southern Hemisphere - Wind Speed (mph) vs. Latitude Linear Regression\n",
    "\n",
    "x_values = south_cities['Lat']\n",
    "y_values = south_cities['Wind Speed']\n",
    "(slope, intercept, rvalue, pvalue, stderr) = linregress(x_values, y_values)\n",
    "regress_values = x_values * slope + intercept\n",
    "line_eq = \"y = \" + str(round(slope,2)) + \"x + \" + str(round(intercept,2))\n",
    "plt.scatter(x_values,y_values)\n",
    "plt.plot(x_values,regress_values,\"r-\")\n",
    "plt.annotate(line_eq,(6,10),fontsize=15,color=\"red\")\n",
    "plt.xlabel('Latitude')\n",
    "plt.ylabel('Wind Speed')\n",
    "print(f\"The r-squared is: {rvalue**2}\")\n",
    "plt.show()"
   ]
  },
  {
   "cell_type": "code",
   "execution_count": null,
   "id": "dc39adc8",
   "metadata": {},
   "outputs": [],
   "source": []
  },
  {
   "cell_type": "code",
   "execution_count": null,
   "id": "312b799b",
   "metadata": {},
   "outputs": [],
   "source": []
  }
 ],
 "metadata": {
  "kernelspec": {
   "display_name": "Python 3",
   "language": "python",
   "name": "python3"
  },
  "language_info": {
   "codemirror_mode": {
    "name": "ipython",
    "version": 3
   },
   "file_extension": ".py",
   "mimetype": "text/x-python",
   "name": "python",
   "nbconvert_exporter": "python",
   "pygments_lexer": "ipython3",
   "version": "3.8.8"
  }
 },
 "nbformat": 4,
 "nbformat_minor": 5
}
