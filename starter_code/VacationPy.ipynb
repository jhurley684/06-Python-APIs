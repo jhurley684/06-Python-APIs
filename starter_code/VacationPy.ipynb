{
 "cells": [
  {
   "cell_type": "markdown",
   "metadata": {},
   "source": [
    "# VacationPy\n",
    "----\n",
    "\n",
    "#### Note\n",
    "* Keep an eye on your API usage. Use https://developers.google.com/maps/reporting/gmp-reporting as reference for how to monitor your usage and billing.\n",
    "\n",
    "* Instructions have been included for each segment. You do not have to follow them exactly, but they are included to help you think through the steps."
   ]
  },
  {
   "cell_type": "code",
   "execution_count": null,
   "metadata": {},
   "outputs": [],
   "source": [
    "# Dependencies and Setup\n",
    "import matplotlib.pyplot as plt\n",
    "import pandas as pd\n",
    "import numpy as np\n",
    "import requests\n",
    "import gmaps\n",
    "import os\n",
    "\n",
    "# Import API key\n",
    "from api_keys import g_key\n"
   ]
  },
  {
   "cell_type": "markdown",
   "metadata": {},
   "source": [
    "##### Gathering Miscellaneous url info"
   ]
  },
  {
   "cell_type": "code",
   "execution_count": null,
   "metadata": {},
   "outputs": [],
   "source": [
    "# google (places api) nearby search reqiest url:   https://maps.googleapis.com/maps/api/place/nearbysearch/output?parameters\n",
    "    #  Documentation:  https://developers.google.com/maps/documentation/places/web-service/search-nearby?hl=en_US\n",
    "\n",
    "# google (geocoding api) https://maps.googleapis.com/maps/api/geocode/outputFormat?parameters\n",
    "    #   Documentation:  https://developers.google.com/maps/documentation/geocoding/overview?hl=en_US\n",
    "\n",
    "\n",
    "# google mapsJavaAPI   MapsJavaScriptAPI uses this script tag that I know nothing about.\n",
    "    # <script async\n",
    "    #     src=\"https://maps.googleapis.com/maps/api/js?key=YOUR_API_KEY&callback=initMap\">\n",
    "    # </script>\n",
    "    # Documentation: https://developers.google.com/maps/documentation/javascript/overview?hl=en_US\n",
    "\n",
    "\n",
    "\n",
    "\n"
   ]
  },
  {
   "cell_type": "markdown",
   "metadata": {},
   "source": [
    "### Store Part I results into DataFrame\n",
    "* Load the csv exported in Part I to a DataFrame"
   ]
  },
  {
   "cell_type": "code",
   "execution_count": null,
   "metadata": {},
   "outputs": [],
   "source": [
    "weather_data_csv = \"weather_data.csv\"\n",
    "weather_data_df = pd.read_csv(weather_data_csv)\n",
    "weather_data_df\n"
   ]
  },
  {
   "cell_type": "markdown",
   "metadata": {},
   "source": [
    "### Humidity Heatmap\n",
    "* Configure gmaps.\n",
    "* Use the Lat and Lng as locations and Humidity as the weight.\n",
    "* Add Heatmap layer to map."
   ]
  },
  {
   "cell_type": "code",
   "execution_count": null,
   "metadata": {},
   "outputs": [],
   "source": [
    "gmaps.configure(api_key = g_key)"
   ]
  },
  {
   "cell_type": "code",
   "execution_count": null,
   "metadata": {},
   "outputs": [],
   "source": [
    "# Store \"Lat\" and \"Lng\" into locations\n",
    "locations = weather_data_df[['Lat', 'Lon']].astype(float)\n",
    "\n",
    "# Store 'Humidity' into humidity \n",
    "humidity = weather_data_df['Humidity'].astype(float)"
   ]
  },
  {
   "cell_type": "code",
   "execution_count": null,
   "metadata": {},
   "outputs": [],
   "source": [
    "# Create a humidity heatmap layer\n",
    "fig = gmaps.figure()\n",
    "\n",
    "heat_layer = gmaps.heatmap_layer(locations, weights = humidity, \n",
    "                                 dissipating=False, max_intensity=100,\n",
    "                                 point_radius = 1)\n",
    "\n",
    "fig.add_layer(heat_layer)\n",
    "\n",
    "fig"
   ]
  },
  {
   "cell_type": "markdown",
   "metadata": {},
   "source": [
    "### Create new DataFrame fitting weather criteria\n",
    "* Narrow down the cities to fit weather conditions.\n",
    "* Drop any rows will null values."
   ]
  },
  {
   "cell_type": "code",
   "execution_count": null,
   "metadata": {},
   "outputs": [],
   "source": [
    "good_humidity = weather_data_df[(weather_data_df['Humidity'] < 60)].dropna()\n",
    "best_humidity = good_humidity[(good_humidity['Humidity'] > 55)].dropna()\n",
    "good_temp = best_humidity[(best_humidity['Temp'] > 297)].dropna()\n",
    "best_weather = good_temp[(good_temp['Temp'] < 302)].dropna()\n",
    "best_weather"
   ]
  },
  {
   "cell_type": "markdown",
   "metadata": {},
   "source": [
    "### Hotel Map\n",
    "* Store into variable named `hotel_df`.\n",
    "* Add a \"Hotel Name\" column to the DataFrame.\n",
    "* Set parameters to search for hotels with 5000 meters.\n",
    "* Hit the Google Places API for each city's coordinates.\n",
    "* Store the first Hotel result into the DataFrame.\n",
    "* Plot markers on top of the heatmap."
   ]
  },
  {
   "cell_type": "code",
   "execution_count": null,
   "metadata": {},
   "outputs": [],
   "source": [
    "# Set parameters to search for a hotel\n",
    "params = {\n",
    "    \"radius\": 5000,\n",
    "    \"types\": \"hotel\",\n",
    "    \"key\": g_key\n",
    "    }\n",
    "\n",
    "# Iterate through \n",
    "for index, row in best_weather.iterrows():\n",
    "    # get lat, lon from df\n",
    "    lat = row[\"Lat\"]\n",
    "    lon = row[\"Lon\"]\n",
    "    \n",
    "    params[\"location\"] = f\"{lat},{lon}\"\n",
    "    # base url\n",
    "    base_url = \"https://maps.googleapis.com/maps/api/place/nearbysearch/json\"\n",
    "\n",
    "    # run a request using our params dictionary\n",
    "    response = requests.get(base_url, params=params)\n",
    "    address = response.json()\n",
    "    try:\n",
    "        best_weather['Hotel Name'] = address[\"results\"][0][\"name\"]\n",
    "    except:    \n",
    "        print('skipping error')\n",
    "        pass\n",
    "best_weather"
   ]
  },
  {
   "cell_type": "code",
   "execution_count": null,
   "metadata": {},
   "outputs": [],
   "source": [
    "humidity_level = best_weather[\"Humidity\"].tolist()\n",
    "humidity_level\n",
    "hotel_name = best_weather['Hotel Name'].tolist()\n",
    "hotel_name"
   ]
  },
  {
   "cell_type": "code",
   "execution_count": null,
   "metadata": {},
   "outputs": [],
   "source": [
    "# Note: Do not change the code in this cell \n",
    "\n",
    "# Using the template add the hotel marks to the heatmap\n",
    "info_box_template = \"\"\"\n",
    "<dl>\n",
    "<dt>Name</dt><dd>{Hotel Name}</dd>\n",
    "<dt>City</dt><dd>{City}</dd>\n",
    "<dt>Country</dt><dd>{Country}</dd>\n",
    "</dl>\n",
    "\"\"\"\n",
    "# Store the DataFrame Row\n",
    "hotel_info = [info_box_template.format(**row) for index, row in best_weather.iterrows()]\n",
    "hotel_locations = best_weather[[\"Lat\", \"Lon\"]].astype(float)\n",
    "hotel_locations"
   ]
  },
  {
   "cell_type": "code",
   "execution_count": null,
   "metadata": {},
   "outputs": [],
   "source": [
    "# Create a humidity Heatmap layer\n",
    "fig = gmaps.figure()\n",
    "\n",
    "heat_layer = gmaps.heatmap_layer(hotel_locations, weights= humidity_level,\n",
    "                                dissipating=False, max_intensity=100,\n",
    "                                point_radius=2)\n",
    "\n",
    "fig.add_layer(heat_layer)\n",
    "\n",
    "fig"
   ]
  },
  {
   "cell_type": "code",
   "execution_count": null,
   "metadata": {
    "scrolled": true
   },
   "outputs": [],
   "source": [
    "# Creat Bank Marker Map\n",
    "hotel_layer = gmaps.symbol_layer(\n",
    "hotel_locations, fill_color = 'rgba(100,150,0,0.4)',\n",
    "    stroke_color= 'rgba(0,150,0,0.4)', scale=2,\n",
    "    info_box_content=[f\"Hotel Name:{hotel}\" for hotel in hotel_name]\n",
    ")\n",
    "\n",
    "fig = gmaps.figure()\n",
    "fig.add_layer(hotel_layer)\n",
    "\n",
    "fig"
   ]
  },
  {
   "cell_type": "code",
   "execution_count": null,
   "metadata": {},
   "outputs": [],
   "source": [
    "# Create a combined map\n",
    "fig = gmaps.figure()\n",
    "\n",
    "fig.add_layer(heat_layer)\n",
    "fig.add_layer(hotel_layer)\n",
    "\n",
    "fig\n"
   ]
  }
 ],
 "metadata": {
  "kernelspec": {
   "display_name": "Python 3",
   "language": "python",
   "name": "python3"
  },
  "language_info": {
   "codemirror_mode": {
    "name": "ipython",
    "version": 3
   },
   "file_extension": ".py",
   "mimetype": "text/x-python",
   "name": "python",
   "nbconvert_exporter": "python",
   "pygments_lexer": "ipython3",
   "version": "3.8.8"
  },
  "latex_envs": {
   "LaTeX_envs_menu_present": true,
   "autoclose": false,
   "autocomplete": true,
   "bibliofile": "biblio.bib",
   "cite_by": "apalike",
   "current_citInitial": 1,
   "eqLabelWithNumbers": true,
   "eqNumInitial": 1,
   "hotkeys": {
    "equation": "Ctrl-E",
    "itemize": "Ctrl-I"
   },
   "labels_anchors": false,
   "latex_user_defs": false,
   "report_style_numbering": false,
   "user_envs_cfg": false
  }
 },
 "nbformat": 4,
 "nbformat_minor": 4
}
